{
 "cells": [
  {
   "cell_type": "code",
   "execution_count": 16,
   "id": "c53d8b96",
   "metadata": {},
   "outputs": [],
   "source": [
    "#importing importent python libraries\n",
    "import os\n",
    "from moviepy.editor import VideoFileClip, TextClip, CompositeVideoClip, concatenate_videoclips, ImageSequenceClip\n",
    "from moviepy.config import change_settings\n"
   ]
  },
  {
   "cell_type": "code",
   "execution_count": 17,
   "id": "efb0b76b",
   "metadata": {},
   "outputs": [],
   "source": [
    "# adding ImageMagick\n",
    "change_settings({\"IMAGEMAGICK_BINARY\": \"C:\\\\Program Files\\\\ImageMagick-7.1.1-Q16-HDRI\\\\magick.exe\"})  # Update the path as needed\n"
   ]
  },
  {
   "cell_type": "code",
   "execution_count": 18,
   "id": "f773abf6",
   "metadata": {},
   "outputs": [],
   "source": [
    "\n",
    "def create_gif_with_text(video_path, output_gif_path, start_time, duration, text):\n",
    "    # Load the video clip\n",
    "    clip = VideoFileClip(video_path).subclip(start_time, start_time + duration)\n",
    "    fps = clip.fps\n",
    "\n",
    "    # Create a TextClip for the overlay text\n",
    "    txt_clip = TextClip(text, fontsize=92, color='black', font='Times-New-Roman', stroke_color='white', stroke_width=3)\n",
    "    txt_clip = txt_clip.set_position(('center', 'bottom')).set_duration(clip.duration).margin(bottom=70, opacity=0)\n",
    "\n",
    "    # Combine the video clip with the text clip\n",
    "    video = CompositeVideoClip([clip, txt_clip])\n",
    "\n",
    "    # Write the resulting video to a GIF file\n",
    "    video.write_gif(output_gif_path, fps=fps, verbose=False)\n"
   ]
  },
  {
   "cell_type": "code",
   "execution_count": 19,
   "id": "399422ed",
   "metadata": {},
   "outputs": [],
   "source": [
    "def main(video_path, output_folder, start_time, end_time, num_gifs=12, texts=None):\n",
    "    if texts is None:\n",
    "        texts = [\"Sample Text\"] * num_gifs  # Default text if none provided\n",
    "\n",
    "    clip = VideoFileClip(video_path)\n",
    "    segment_duration = (end_time - start_time) / num_gifs\n",
    "\n",
    "    for i in range(num_gifs):\n",
    "        segment_start = start_time + i * segment_duration\n",
    "        if segment_start + segment_duration > end_time:\n",
    "            break\n",
    "        \n",
    "        output_gif_path = os.path.join(output_folder, f\"output_{i+1}.gif\")\n",
    "        create_gif_with_text(video_path, output_gif_path, segment_start, segment_duration, texts[i])\n",
    "\n",
    "    print(f\"{num_gifs} GIFs created.\")\n"
   ]
  },
  {
   "cell_type": "code",
   "execution_count": 20,
   "id": "da2cdce7",
   "metadata": {},
   "outputs": [
    {
     "name": "stdout",
     "output_type": "stream",
     "text": [
      "MoviePy - Building file gifs_output\\output_1.gif with imageio.\n"
     ]
    },
    {
     "name": "stderr",
     "output_type": "stream",
     "text": [
      "                                                                                                                       \r"
     ]
    },
    {
     "name": "stdout",
     "output_type": "stream",
     "text": [
      "MoviePy - Building file gifs_output\\output_2.gif with imageio.\n"
     ]
    },
    {
     "name": "stderr",
     "output_type": "stream",
     "text": [
      "                                                                                                                       \r"
     ]
    },
    {
     "name": "stdout",
     "output_type": "stream",
     "text": [
      "MoviePy - Building file gifs_output\\output_3.gif with imageio.\n"
     ]
    },
    {
     "name": "stderr",
     "output_type": "stream",
     "text": [
      "                                                                                                                       \r"
     ]
    },
    {
     "name": "stdout",
     "output_type": "stream",
     "text": [
      "MoviePy - Building file gifs_output\\output_4.gif with imageio.\n"
     ]
    },
    {
     "name": "stderr",
     "output_type": "stream",
     "text": [
      "                                                                                                                       \r"
     ]
    },
    {
     "name": "stdout",
     "output_type": "stream",
     "text": [
      "MoviePy - Building file gifs_output\\output_5.gif with imageio.\n"
     ]
    },
    {
     "name": "stderr",
     "output_type": "stream",
     "text": [
      "                                                                                                                       \r"
     ]
    },
    {
     "name": "stdout",
     "output_type": "stream",
     "text": [
      "MoviePy - Building file gifs_output\\output_6.gif with imageio.\n"
     ]
    },
    {
     "name": "stderr",
     "output_type": "stream",
     "text": [
      "                                                                                                                       \r"
     ]
    },
    {
     "name": "stdout",
     "output_type": "stream",
     "text": [
      "MoviePy - Building file gifs_output\\output_7.gif with imageio.\n"
     ]
    },
    {
     "name": "stderr",
     "output_type": "stream",
     "text": [
      "                                                                                                                       \r"
     ]
    },
    {
     "name": "stdout",
     "output_type": "stream",
     "text": [
      "MoviePy - Building file gifs_output\\output_8.gif with imageio.\n"
     ]
    },
    {
     "name": "stderr",
     "output_type": "stream",
     "text": [
      "                                                                                                                       \r"
     ]
    },
    {
     "name": "stdout",
     "output_type": "stream",
     "text": [
      "MoviePy - Building file gifs_output\\output_9.gif with imageio.\n"
     ]
    },
    {
     "name": "stderr",
     "output_type": "stream",
     "text": [
      "                                                                                                                       \r"
     ]
    },
    {
     "name": "stdout",
     "output_type": "stream",
     "text": [
      "MoviePy - Building file gifs_output\\output_10.gif with imageio.\n"
     ]
    },
    {
     "name": "stderr",
     "output_type": "stream",
     "text": [
      "                                                                                                                       \r"
     ]
    },
    {
     "name": "stdout",
     "output_type": "stream",
     "text": [
      "MoviePy - Building file gifs_output\\output_11.gif with imageio.\n"
     ]
    },
    {
     "name": "stderr",
     "output_type": "stream",
     "text": [
      "                                                                                                                       \r"
     ]
    },
    {
     "name": "stdout",
     "output_type": "stream",
     "text": [
      "MoviePy - Building file gifs_output\\output_12.gif with imageio.\n"
     ]
    },
    {
     "name": "stderr",
     "output_type": "stream",
     "text": [
      "                                                                                                                       \r"
     ]
    },
    {
     "name": "stdout",
     "output_type": "stream",
     "text": [
      "12 GIFs created.\n"
     ]
    }
   ],
   "source": [
    "\n",
    "\n",
    "if __name__ == \"__main__\":\n",
    "    video_path = \"Creating Automatic GIFs from Videos.mp4\"  # path to the video file\n",
    "    output_folder = \"gifs_output\"\n",
    "    start_time = 57  # Start time \n",
    "    end_time = 97  # End time\n",
    "    num_gifs = 12  # Number of GIFs to create\n",
    "    texts = [\n",
    "        \"I LOVE YOU !! \", \"Grand Rising\", \"good vibes to all\", \"Stay Based\", \n",
    "        \"Thumbs UP\", \"Thubms DOWN\", \"I AM OKEYY \", \"THINKING \",\n",
    "        \"Happy Monday !!\", \"Happy Tuesday !!\", \" Happy Wednesday\", \"Happy Friday\"\n",
    "    ]  # List of texts for each GIF\n",
    "\n",
    "    os.makedirs(output_folder, exist_ok=True)\n",
    "    main(video_path, output_folder, start_time, end_time, num_gifs, texts)\n"
   ]
  },
  {
   "cell_type": "code",
   "execution_count": null,
   "id": "ad56eb87",
   "metadata": {},
   "outputs": [],
   "source": []
  },
  {
   "cell_type": "code",
   "execution_count": null,
   "id": "a173b227",
   "metadata": {},
   "outputs": [],
   "source": []
  },
  {
   "cell_type": "code",
   "execution_count": null,
   "id": "ab027d40",
   "metadata": {},
   "outputs": [],
   "source": []
  }
 ],
 "metadata": {
  "kernelspec": {
   "display_name": "Python 3 (ipykernel)",
   "language": "python",
   "name": "python3"
  },
  "language_info": {
   "codemirror_mode": {
    "name": "ipython",
    "version": 3
   },
   "file_extension": ".py",
   "mimetype": "text/x-python",
   "name": "python",
   "nbconvert_exporter": "python",
   "pygments_lexer": "ipython3",
   "version": "3.10.10"
  }
 },
 "nbformat": 4,
 "nbformat_minor": 5
}
